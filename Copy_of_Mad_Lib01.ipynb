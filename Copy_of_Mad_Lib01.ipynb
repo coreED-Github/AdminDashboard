{
  "nbformat": 4,
  "nbformat_minor": 0,
  "metadata": {
    "colab": {
      "provenance": [],
      "authorship_tag": "ABX9TyNgNBJX9FkxFRCDgGR8zwY7",
      "include_colab_link": true
    },
    "kernelspec": {
      "name": "python3",
      "display_name": "Python 3"
    },
    "language_info": {
      "name": "python"
    }
  },
  "cells": [
    {
      "cell_type": "markdown",
      "metadata": {
        "id": "view-in-github",
        "colab_type": "text"
      },
      "source": [
        "<a href=\"https://colab.research.google.com/github/coreED-Github/AdminDashboard/blob/main/Copy_of_Mad_Lib01.ipynb\" target=\"_parent\"><img src=\"https://colab.research.google.com/assets/colab-badge.svg\" alt=\"Open In Colab\"/></a>"
      ]
    },
    {
      "cell_type": "code",
      "execution_count": null,
      "metadata": {
        "id": "TY8meptev0tr",
        "colab": {
          "base_uri": "https://localhost:8080/"
        },
        "outputId": "81831e35-fff2-408d-903c-d5b300a4cb9e"
      },
      "outputs": [
        {
          "metadata": {
            "tags": null
          },
          "name": "stdout",
          "output_type": "stream",
          "text": [
            "Welcome to the Magical Story Creator!\n",
            "Answer the following questions to build your adventure story...\n",
            "\n"
          ]
        }
      ],
      "source": [
        "# Mad_Libs Adventure Game\n",
        "print(\"Welcome to the Magical Story Creator!\")\n",
        "print(\"Answer the following questions to build your adventure story...\\n\")\n",
        "\n",
        "adjective1 = input(\"1. Enter an adjective (to describe a place): \")\n",
        "animal = input(\"2. Name an animal: \")\n",
        "noun1 = input(\"3. Enter a mysterious object (noun): \")\n",
        "verb_past = input(\"4. Enter a verb (past tense): \")\n",
        "place = input(\"5. Enter a magical or real place: \")\n",
        "sound = input(\"6. What sound does the animal make? \")\n",
        "emotion = input(\"7. How did everyone feel? (e.g., happy, scared, surprised): \")\n",
        "\n",
        "input(\"\\nAll set! Press Enter to 'Create Story'...\")\n",
        "print(\"\\nHere's your magical story:\\n\")\n",
        "\n",
        "story = f\"\"\"\n",
        "In a {adjective1} forest far beyond the mountains, a curious {animal} roamed freely.\n",
        " {animal.capitalize()} was known for its love of exploring the unknown.\n",
        "One bright morning, it stumbled upon a shiny {noun1} hidden beneath a pile of golden leaves.\n",
        "Without a second thought, it {verb_past} and let out a loud '{sound.upper()}!' {sound.upper()}!!! {animal.capitalize()}’s voice echoed through the {adjective1} trees.\n",
        "Everyone in the land of {place} heard the noise and rushed to see what had happened. People were {emotion}, eyes wide open and hearts pounding.\n",
        "From that day on, the tale of the {animal} and the magical {noun1} spread like wildfire. It was the beginning of an epic adventure filled with laughter, wonder, and a bit of mystery.\n",
        "And if you ever visit {place}, you might just hear that same sound again... '{sound}!' echoing through the trees.\n",
        "The end.\n",
        "\n",
        "{animal.capitalize()} says goodbye with a wave! {sound.upper()}!\n",
        "\"\"\"\n",
        "print(story)"
      ]
    }
  ]
}