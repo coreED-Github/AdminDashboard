{
  "nbformat": 4,
  "nbformat_minor": 0,
  "metadata": {
    "colab": {
      "provenance": [],
      "authorship_tag": "ABX9TyOC9GZOnzzf1xRkyswrMA3e",
      "include_colab_link": true
    },
    "kernelspec": {
      "name": "python3",
      "display_name": "Python 3"
    },
    "language_info": {
      "name": "python"
    }
  },
  "cells": [
    {
      "cell_type": "markdown",
      "metadata": {
        "id": "view-in-github",
        "colab_type": "text"
      },
      "source": [
        "<a href=\"https://colab.research.google.com/github/coreED-Github/AdminDashboard/blob/main/02_basic.ipynb\" target=\"_parent\"><img src=\"https://colab.research.google.com/assets/colab-badge.svg\" alt=\"Open In Colab\"/></a>"
      ]
    },
    {
      "cell_type": "code",
      "execution_count": null,
      "metadata": {
        "colab": {
          "base_uri": "https://localhost:8080/"
        },
        "id": "WbMXlxxKIGTz",
        "outputId": "d4b36fc6-287e-4bda-dc8a-cdc3640049f3"
      },
      "outputs": [
        {
          "name": "stdout",
          "output_type": "stream",
          "text": [
            "Enter a positive integer: 8\n",
            "Enter a stop value (e.g., 100): 12\n",
            "\n",
            "Starting with 8, doubling until we reach or exceed 12...\n",
            "\n",
            "Doubled Values: 8 16\n",
            "\n",
            "Would you like to try again with a different number? (yes/no): yes\n"
          ]
        }
      ],
      "source": [
        "def main():\n",
        "    while True:\n",
        "        try:\n",
        "            curr_value = int(input(\"Enter a positive integer: \"))\n",
        "            if curr_value <= 0:\n",
        "                print(\"Please enter a number greater than 0.\")\n",
        "                continue\n",
        "            break\n",
        "        except ValueError:\n",
        "            print(\"Invalid input! Please enter a valid number.\")\n",
        "\n",
        "    while True:\n",
        "        try:\n",
        "            stop_value = int(input(\"Enter a stop value (e.g., 100): \"))\n",
        "            if stop_value <= curr_value:\n",
        "                print(f\"The stop value should be greater than {curr_value}. Try again.\")\n",
        "                continue\n",
        "            break\n",
        "        except ValueError:\n",
        "            print(\"Invalid input! Please enter a valid stop value.\")\n",
        "\n",
        "    print(f\"\\nStarting with {curr_value}, doubling until we reach or exceed {stop_value}...\\n\")\n",
        "\n",
        "    print(\"Doubled Values: \", end=\"\")\n",
        "    while curr_value < stop_value:\n",
        "        print(curr_value, end=\" \")\n",
        "        curr_value *= 2\n",
        "\n",
        "    print(curr_value)\n",
        "\n",
        "    try_again = input(\"\\nWould you like to try again with a different number? (yes/no): \").strip().lower()\n",
        "    if try_again == \"yes\":\n",
        "        main()\n",
        "\n",
        "if __name__ == '__main__':\n",
        "    main()"
      ]
    }
  ]
}