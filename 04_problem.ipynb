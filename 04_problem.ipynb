{
  "nbformat": 4,
  "nbformat_minor": 0,
  "metadata": {
    "colab": {
      "provenance": [],
      "authorship_tag": "ABX9TyNsiQOOZL1MapT/zM2oQVx7",
      "include_colab_link": true
    },
    "kernelspec": {
      "name": "python3",
      "display_name": "Python 3"
    },
    "language_info": {
      "name": "python"
    }
  },
  "cells": [
    {
      "cell_type": "markdown",
      "metadata": {
        "id": "view-in-github",
        "colab_type": "text"
      },
      "source": [
        "<a href=\"https://colab.research.google.com/github/coreED-Github/AdminDashboard/blob/main/04_problem.ipynb\" target=\"_parent\"><img src=\"https://colab.research.google.com/assets/colab-badge.svg\" alt=\"Open In Colab\"/></a>"
      ]
    },
    {
      "cell_type": "code",
      "execution_count": null,
      "metadata": {
        "colab": {
          "base_uri": "https://localhost:8080/"
        },
        "id": "2d9i6BYoAedT",
        "outputId": "ada83821-5e90-4a1b-d437-2b830b3e1b6b"
      },
      "outputs": [
        {
          "output_type": "stream",
          "name": "stdout",
          "text": [
            "Anton is 21  Beth is 27  Chen is 47  Drew is 68  Ethan is 47\n"
          ]
        }
      ],
      "source": [
        "class Friend:\n",
        "    def __init__(self, name, age):\n",
        "        self.name = name\n",
        "        self.age = age\n",
        "\n",
        "    def display(self):\n",
        "        return f\"{self.name} is {self.age}\"\n",
        "\n",
        "def main():\n",
        "    anton = Friend(\"Anton\", 21)\n",
        "    beth = Friend(\"Beth\", anton.age + 6)\n",
        "    chen = Friend(\"Chen\", beth.age + 20)\n",
        "    drew = Friend(\"Drew\", chen.age + anton.age)\n",
        "    ethan = Friend(\"Ethan\", chen.age)\n",
        "\n",
        "    print(anton.display(), end=\"  \")\n",
        "    print(beth.display(), end=\"  \")\n",
        "    print(chen.display(), end=\"  \")\n",
        "    print(drew.display(), end=\"  \")\n",
        "    print(ethan.display())\n",
        "if __name__ == '__main__':\n",
        "    main()"
      ]
    }
  ]
}