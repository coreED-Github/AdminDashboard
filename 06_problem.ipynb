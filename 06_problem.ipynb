{
  "nbformat": 4,
  "nbformat_minor": 0,
  "metadata": {
    "colab": {
      "provenance": [],
      "authorship_tag": "ABX9TyO8mXSc2r3chSfeqNRY9P0a",
      "include_colab_link": true
    },
    "kernelspec": {
      "name": "python3",
      "display_name": "Python 3"
    },
    "language_info": {
      "name": "python"
    }
  },
  "cells": [
    {
      "cell_type": "markdown",
      "metadata": {
        "id": "view-in-github",
        "colab_type": "text"
      },
      "source": [
        "<a href=\"https://colab.research.google.com/github/coreED-Github/AdminDashboard/blob/main/06_problem.ipynb\" target=\"_parent\"><img src=\"https://colab.research.google.com/assets/colab-badge.svg\" alt=\"Open In Colab\"/></a>"
      ]
    },
    {
      "cell_type": "code",
      "execution_count": null,
      "metadata": {
        "colab": {
          "base_uri": "https://localhost:8080/"
        },
        "id": "E2-TyZLyD63O",
        "outputId": "fa42d340-fabf-4c43-9545-c8591e08dd5c"
      },
      "outputs": [
        {
          "output_type": "stream",
          "name": "stdout",
          "text": [
            "Type a number to see its square: 8\n",
            "8.0 squared is 64.0\n",
            "Graphical representation: ################################################################\n",
            "Do you want to calculate another square? (y/n): y\n",
            "Type a number to see its square: 2\n",
            "2.0 squared is 4.0\n",
            "Graphical representation: ####\n"
          ]
        }
      ],
      "source": [
        "def main():\n",
        "    while True:\n",
        "        try:\n",
        "            num = float(input(\"Type a number to see its square: \"))\n",
        "            square = num ** 2\n",
        "            print(f\"{num} squared is {square}\")\n",
        "\n",
        "            print(\"Graphical representation: \" + \"#\" * int(square))\n",
        "\n",
        "            cont = input(\"Do you want to calculate another square? (y/n): \").lower()\n",
        "            if cont != 'y':\n",
        "                print(\"Goodbye! Have a great day.\")\n",
        "                break\n",
        "\n",
        "        except ValueError:\n",
        "            print(\"Invalid input! Please enter a valid number.\")\n",
        "\n",
        "if __name__ == '__main__':\n",
        "    main()"
      ]
    }
  ]
}