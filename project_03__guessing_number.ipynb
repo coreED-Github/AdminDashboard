{
  "nbformat": 4,
  "nbformat_minor": 0,
  "metadata": {
    "colab": {
      "provenance": [],
      "authorship_tag": "ABX9TyPCq5EGJh9mbZypYcVBAu+6",
      "include_colab_link": true
    },
    "kernelspec": {
      "name": "python3",
      "display_name": "Python 3"
    },
    "language_info": {
      "name": "python"
    }
  },
  "cells": [
    {
      "cell_type": "markdown",
      "metadata": {
        "id": "view-in-github",
        "colab_type": "text"
      },
      "source": [
        "<a href=\"https://colab.research.google.com/github/coreED-Github/AdminDashboard/blob/main/project_03__guessing_number.ipynb\" target=\"_parent\"><img src=\"https://colab.research.google.com/assets/colab-badge.svg\" alt=\"Open In Colab\"/></a>"
      ]
    },
    {
      "cell_type": "markdown",
      "source": [
        "**Purpose:**\n",
        "\n",
        "This code implements a number guessing game where the computer tries to guess a number that the user is thinking of, based on the user's feedback.\n",
        "\n",
        "**Steps**\n",
        "*1. User Input for Range:* The program prompts the user to define a range (lower and upper limits) for the number they are thinking of. It checks if the input values are valid integers and ensures the lower limit is less than the upper limit.\n",
        "\n",
        "\n",
        "*2. Game Process:* The computer starts guessing the number by picking the midpoint of the range. It then asks the user if the guess is too high, too low, or correct.\n",
        "\n",
        "\n",
        "*3. Feedback Handling:* Based on user feedback (high, low, correct), the program adjusts the range and continues guessing. It also provides hints after every 5 incorrect guesses to encourage the user.\n",
        "\n",
        "\n",
        "*4. Game End: *The game continues until the computer guesses the correct number, at which point it displays a congratulatory message, including the number of attempts taken to guess it.\n",
        "\n",
        "\n",
        "**Features:**\n",
        "\n",
        "Dynamic range input from the user.\n",
        "\n",
        "Interactive feedback loop for the user.\n",
        "\n",
        "Provides hints after multiple incorrect guesses."
      ],
      "metadata": {
        "id": "X2YVTGIUuQ4S"
      }
    },
    {
      "cell_type": "code",
      "execution_count": null,
      "metadata": {
        "colab": {
          "base_uri": "https://localhost:8080/"
        },
        "id": "NX6mw-fctVun",
        "outputId": "9e23b888-6686-4c2a-ccb0-00591c60e036"
      },
      "outputs": [
        {
          "output_type": "stream",
          "name": "stdout",
          "text": [
            "Welcome to the Guess the Number Game!\n",
            "Think of a number and I will try to guess it.\n",
            "Enter the lower limit of your number range: 10\n",
            "Enter the upper limit of your number range: 20\n",
            "Great! I'm going to guess a number between 10 and 20.\n",
            "Attempt 1: My guess is 15 \n",
            "Is my guess too high, too low, or correct? (h/l/c): c\n",
            "Yay! I guessed the correct number 15 in 1 attempts. 🎉\n"
          ]
        }
      ],
      "source": [
        "import random\n",
        "import time\n",
        "\n",
        "def guess_the_number_user():\n",
        "    print(\"Welcome to the Guess the Number Game!\")\n",
        "    print(\"Think of a number and I will try to guess it.\")\n",
        "\n",
        "    try:\n",
        "        low = int(input(\"Enter the lower limit of your number range: \"))\n",
        "        high = int(input(\"Enter the upper limit of your number range: \"))\n",
        "    except ValueError:\n",
        "        print(\"Invalid input! Please enter valid integers.\")\n",
        "        return\n",
        "\n",
        "    if low >= high:\n",
        "        print(\"The lower limit should be less than the upper limit. Try again.\")\n",
        "        return\n",
        "\n",
        "    print(f\"Great! I'm going to guess a number between {low} and {high}.\")\n",
        "    time.sleep(1)\n",
        "\n",
        "    attempts = 0\n",
        "    hint = \"\"\n",
        "\n",
        "    while True:\n",
        "        attempts += 1\n",
        "        guess = (low + high) // 2\n",
        "\n",
        "        print(f\"Attempt {attempts}: My guess is {guess} {hint}\")\n",
        "\n",
        "        feedback = input(\"Is my guess too high, too low, or correct? (h/l/c): \").lower()\n",
        "\n",
        "        if feedback == 'c':\n",
        "            print(f\"Yay! I guessed the correct number {guess} in {attempts} attempts. 🎉\")\n",
        "            break\n",
        "        elif feedback == 'h':\n",
        "            high = guess - 1\n",
        "            hint = \"🔼\"\n",
        "        elif feedback == 'l':\n",
        "            low = guess + 1\n",
        "            hint = \"🔽\"\n",
        "        else:\n",
        "            print(\"Invalid input. Please enter 'h', 'l', or 'c'.\")\n",
        "            attempts -= 1\n",
        "\n",
        "\n",
        "        if attempts % 5 == 0 and attempts != 0:\n",
        "            print(\"Tip: You're getting close! Keep going!\")\n",
        "\n",
        "guess_the_number_user()"
      ]
    }
  ]
}