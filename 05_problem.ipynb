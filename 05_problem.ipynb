{
  "nbformat": 4,
  "nbformat_minor": 0,
  "metadata": {
    "colab": {
      "provenance": [],
      "authorship_tag": "ABX9TyPlUq9itB80xoeiOZDx9VdA",
      "include_colab_link": true
    },
    "kernelspec": {
      "name": "python3",
      "display_name": "Python 3"
    },
    "language_info": {
      "name": "python"
    }
  },
  "cells": [
    {
      "cell_type": "markdown",
      "metadata": {
        "id": "view-in-github",
        "colab_type": "text"
      },
      "source": [
        "<a href=\"https://colab.research.google.com/github/coreED-Github/AdminDashboard/blob/main/05_problem.ipynb\" target=\"_parent\"><img src=\"https://colab.research.google.com/assets/colab-badge.svg\" alt=\"Open In Colab\"/></a>"
      ]
    },
    {
      "cell_type": "code",
      "execution_count": null,
      "metadata": {
        "colab": {
          "base_uri": "https://localhost:8080/"
        },
        "id": "oIixNSNiC5vd",
        "outputId": "03fdf03f-57ad-4c88-d983-e11ff3ae4ea8"
      },
      "outputs": [
        {
          "output_type": "stream",
          "name": "stdout",
          "text": [
            "Enter the length of side 1: 7\n",
            "Enter the length of side 2: 8\n",
            "Enter the length of side 3: 9\n",
            "The perimeter of the triangle is 24.00\n",
            "This is a Scalene triangle!\n"
          ]
        }
      ],
      "source": [
        "def main():\n",
        "    side1 = float(input(\"Enter the length of side 1: \"))\n",
        "    side2 = float(input(\"Enter the length of side 2: \"))\n",
        "    side3 = float(input(\"Enter the length of side 3: \"))\n",
        "\n",
        "    if side1 + side2 > side3 and side1 + side3 > side2 and side2 + side3 > side1:\n",
        "        perimeter = side1 + side2 + side3\n",
        "        print(f\"The perimeter of the triangle is {perimeter:.2f}\")\n",
        "\n",
        "        if side1 == side2 == side3:\n",
        "            print(\"This is an Equilateral triangle!\")\n",
        "        elif side1 == side2 or side2 == side3 or side1 == side3:\n",
        "            print(\"This is an Isosceles triangle!\")\n",
        "        else:\n",
        "            print(\"This is a Scalene triangle!\")\n",
        "    else:\n",
        "        print(\"The given sides do not form a valid triangle.\")\n",
        "\n",
        "if __name__ == '__main__':\n",
        "    main()"
      ]
    }
  ]
}