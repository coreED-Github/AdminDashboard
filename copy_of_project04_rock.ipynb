{
  "nbformat": 4,
  "nbformat_minor": 0,
  "metadata": {
    "colab": {
      "provenance": [],
      "authorship_tag": "ABX9TyNiqZhQPtYS3jqvIcrPvXwf",
      "include_colab_link": true
    },
    "kernelspec": {
      "name": "python3",
      "display_name": "Python 3"
    },
    "language_info": {
      "name": "python"
    }
  },
  "cells": [
    {
      "cell_type": "markdown",
      "metadata": {
        "id": "view-in-github",
        "colab_type": "text"
      },
      "source": [
        "<a href=\"https://colab.research.google.com/github/coreED-Github/AdminDashboard/blob/main/copy_of_project04_rock.ipynb\" target=\"_parent\"><img src=\"https://colab.research.google.com/assets/colab-badge.svg\" alt=\"Open In Colab\"/></a>"
      ]
    },
    {
      "cell_type": "code",
      "execution_count": null,
      "metadata": {
        "colab": {
          "base_uri": "https://localhost:8080/"
        },
        "id": "kWoFG4rLTM0J",
        "outputId": "1157c31a-65ae-4137-dbb6-133ad9e01e66"
      },
      "outputs": [
        {
          "output_type": "stream",
          "name": "stdout",
          "text": [
            "Welcome to Rock, Paper, Scissors, Lizard, Spock!\n",
            "You will play against the computer.\n",
            "Let's start!\n",
            "Enter rock, paper, scissors, lizard, or spock: lizard\n",
            "Computer chose lizard 🦎\n",
            "It's a tie!\n",
            "It's a tie... But you still look cool!\n",
            "Score - You: 0, Computer: 0\n",
            "Do you want to play again? (yes/no): yes\n",
            "Enter rock, paper, scissors, lizard, or spock: paper\n",
            "Computer chose rock ✊\n",
            "You win!\n",
            "You crushed that rock like a true champion!\n",
            "Score - You: 1, Computer: 0\n"
          ]
        }
      ],
      "source": [
        "import random\n",
        "import time\n",
        "\n",
        "user_score = 0\n",
        "computer_score = 0\n",
        "\n",
        "options = [\"rock\", \"paper\", \"scissors\", \"lizard\", \"spock\"]\n",
        "emojis = {\"rock\": \"✊\", \"paper\": \"✋\", \"scissors\": \"✌\", \"lizard\": \"🦎\", \"spock\": \"🖖\"}\n",
        "\n",
        "user_history = []\n",
        "computer_history = []\n",
        "\n",
        "def determine_winner(user_choice, computer_choice):\n",
        "    if user_choice == computer_choice:\n",
        "        return \"It's a tie!\"\n",
        "    elif (user_choice == \"rock\" and computer_choice in [\"scissors\", \"lizard\"]) or \\\n",
        "         (user_choice == \"paper\" and computer_choice in [\"rock\", \"spock\"]) or \\\n",
        "         (user_choice == \"scissors\" and computer_choice in [\"paper\", \"lizard\"]) or \\\n",
        "         (user_choice == \"lizard\" and computer_choice in [\"paper\", \"spock\"]) or \\\n",
        "         (user_choice == \"spock\" and computer_choice in [\"rock\", \"scissors\"]):\n",
        "        return \"You win!\"\n",
        "    else:\n",
        "        return \"Computer wins!\"\n",
        "\n",
        "def update_score(winner):\n",
        "    global user_score, computer_score\n",
        "    if winner == \"You win!\":\n",
        "        user_score += 1\n",
        "    elif winner == \"Computer wins!\":\n",
        "        computer_score += 1\n",
        "\n",
        "def display_score():\n",
        "    print(f\"Score - You: {user_score}, Computer: {computer_score}\")\n",
        "\n",
        "def fun_response(result):\n",
        "    if result == \"You win!\":\n",
        "        return \"You crushed that rock like a true champion!\"\n",
        "    elif result == \"Computer wins!\":\n",
        "        return \"Ouch, better luck next time!\"\n",
        "    else:\n",
        "        return \"It's a tie... But you still look cool!\"\n",
        "\n",
        "def show_history():\n",
        "    print(\"\\n--- Game History ---\")\n",
        "    for i in range(len(user_history)):\n",
        "        print(f\"Round {i+1}: You chose {user_history[i]} {emojis[user_history[i]]} | Computer chose {computer_history[i]} {emojis[computer_history[i]]}\")\n",
        "    print(\"---------------------\\n\")\n",
        "\n",
        "def play_round():\n",
        "    global user_score, computer_score\n",
        "    user_choice = input(\"Enter rock, paper, scissors, lizard, or spock: \").lower()\n",
        "\n",
        "    if user_choice not in options:\n",
        "        print(\"Invalid choice, please choose again.\")\n",
        "        return\n",
        "\n",
        "    computer_choice = random.choice(options)\n",
        "    print(f\"Computer chose {computer_choice} {emojis[computer_choice]}\")\n",
        "\n",
        "    result = determine_winner(user_choice, computer_choice)\n",
        "    print(result)\n",
        "    print(fun_response(result))\n",
        "\n",
        "    update_score(result)\n",
        "    display_score()\n",
        "\n",
        "    user_history.append(user_choice)\n",
        "    computer_history.append(computer_choice)\n",
        "\n",
        "def play_game():\n",
        "    print(\"Welcome to Rock, Paper, Scissors, Lizard, Spock!\")\n",
        "    print(\"You will play against the computer.\")\n",
        "    print(\"Let's start!\")\n",
        "\n",
        "    while True:\n",
        "        play_round()\n",
        "\n",
        "        play_again = input(\"Do you want to play again? (yes/no): \").lower()\n",
        "        if play_again != \"yes\":\n",
        "            show_history()\n",
        "            break\n",
        "\n",
        "    print(\"Thanks for playing!\")\n",
        "    print(f\"Final Score - You: {user_score}, Computer: {computer_score}\")\n",
        "\n",
        "if __name__ == \"__main__\":\n",
        "    play_game()\n",
        "\n"
      ]
    }
  ]
}