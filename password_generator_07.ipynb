{
  "nbformat": 4,
  "nbformat_minor": 0,
  "metadata": {
    "colab": {
      "provenance": [],
      "authorship_tag": "ABX9TyMth9pt9EE9z+D3bYvA+b0H",
      "include_colab_link": true
    },
    "kernelspec": {
      "name": "python3",
      "display_name": "Python 3"
    },
    "language_info": {
      "name": "python"
    }
  },
  "cells": [
    {
      "cell_type": "markdown",
      "metadata": {
        "id": "view-in-github",
        "colab_type": "text"
      },
      "source": [
        "<a href=\"https://colab.research.google.com/github/coreED-Github/AdminDashboard/blob/main/password_generator_07.ipynb\" target=\"_parent\"><img src=\"https://colab.research.google.com/assets/colab-badge.svg\" alt=\"Open In Colab\"/></a>"
      ]
    },
    {
      "cell_type": "code",
      "execution_count": null,
      "metadata": {
        "colab": {
          "base_uri": "https://localhost:8080/"
        },
        "id": "idL5bX7vvwr4",
        "outputId": "5d88c9be-fded-422e-894e-522b83c39409"
      },
      "outputs": [
        {
          "output_type": "stream",
          "name": "stdout",
          "text": [
            "Enter the length of the password: 8\n",
            "Include uppercase letters? (y/n): y\n",
            "Include digits? (y/n): y\n",
            "Include special characters? (y/n): y\n",
            "Your generated password is: ?y+x%Fl9\n",
            "Password strength: Medium\n"
          ]
        }
      ],
      "source": [
        "import random\n",
        "import string\n",
        "import secrets\n",
        "lowercase = string.ascii_lowercase\n",
        "uppercase = string.ascii_uppercase\n",
        "digits = string.digits\n",
        "special_characters = string.punctuation\n",
        "\n",
        "def check_password_strength(password):\n",
        "    \"\"\"Check password strength based on length and character diversity.\"\"\"\n",
        "    strength = \"Weak\"\n",
        "    if len(password) >= 12:\n",
        "        strength = \"Strong\"\n",
        "    elif len(password) >= 8:\n",
        "        strength = \"Medium\"\n",
        "    return strength\n",
        "\n",
        "def generate_password(length, include_uppercase, include_digits, include_special):\n",
        "    character_pool = lowercase\n",
        "    if include_uppercase:\n",
        "        character_pool += uppercase\n",
        "    if include_digits:\n",
        "        character_pool += digits\n",
        "    if include_special:\n",
        "        character_pool += special_characters\n",
        "\n",
        "    password_chars = []\n",
        "    if include_uppercase:\n",
        "        password_chars.append(secrets.choice(uppercase))\n",
        "    if include_digits:\n",
        "        password_chars.append(secrets.choice(digits))\n",
        "    if include_special:\n",
        "        password_chars.append(secrets.choice(special_characters))\n",
        "\n",
        "    remaining_length = length - len(password_chars)\n",
        "    password_chars += [secrets.choice(character_pool) for _ in range(remaining_length)]\n",
        "    secrets.SystemRandom().shuffle(password_chars)\n",
        "\n",
        "    return ''.join(password_chars)\n",
        "\n",
        "password_length = int(input(\"Enter the length of the password: \"))\n",
        "while password_length < 6:\n",
        "    print(\"Password length must be at least 6 characters.\")\n",
        "    password_length = int(input(\"Enter the length of the password: \"))\n",
        "\n",
        "include_uppercase = input(\"Include uppercase letters? (y/n): \").lower() == 'y'\n",
        "include_digits = input(\"Include digits? (y/n): \").lower() == 'y'\n",
        "include_special = input(\"Include special characters? (y/n): \").lower() == 'y'\n",
        "generated_password = generate_password(password_length, include_uppercase, include_digits, include_special)\n",
        "strength = check_password_strength(generated_password)\n",
        "\n",
        "\n",
        "print(f\"Your generated password is: {generated_password}\")\n",
        "print(f\"Password strength: {strength}\")"
      ]
    }
  ]
}