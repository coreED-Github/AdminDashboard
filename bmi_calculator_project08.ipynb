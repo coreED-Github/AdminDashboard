{
  "nbformat": 4,
  "nbformat_minor": 0,
  "metadata": {
    "colab": {
      "provenance": [],
      "authorship_tag": "ABX9TyN7mYx66Ywwoy5yH1OXOoux",
      "include_colab_link": true
    },
    "kernelspec": {
      "name": "python3",
      "display_name": "Python 3"
    },
    "language_info": {
      "name": "python"
    }
  },
  "cells": [
    {
      "cell_type": "markdown",
      "metadata": {
        "id": "view-in-github",
        "colab_type": "text"
      },
      "source": [
        "<a href=\"https://colab.research.google.com/github/coreED-Github/AdminDashboard/blob/main/bmi_calculator_project08.ipynb\" target=\"_parent\"><img src=\"https://colab.research.google.com/assets/colab-badge.svg\" alt=\"Open In Colab\"/></a>"
      ]
    },
    {
      "cell_type": "markdown",
      "source": [
        "**# About the Project:**\n",
        "\n",
        "This project is a **BMI Calculator** built using Streamlit and Pyngrok. It allows users to calculate their Body Mass Index (BMI), see their BMI category (Underweight, Normal, Overweight, Obese), and get personalized tips. The application also displays a BMI history for repeated calculations and visualizes the BMI data in a bar chart. It's a simple, interactive, and educational tool for users to monitor their health.\n",
        "New Section"
      ],
      "metadata": {
        "id": "vI36AZKnx0dA"
      }
    },
    {
      "cell_type": "markdown",
      "source": [
        "**Step 1: Install Dependencies**\n",
        "\n",
        "In this first step, we installed the required libraries, Streamlit for creating the web app and Pyngrok for tunneling the app to a public URL.\n",
        "\n"
      ],
      "metadata": {
        "id": "noEa036LyBpD"
      }
    },
    {
      "cell_type": "code",
      "execution_count": null,
      "metadata": {
        "colab": {
          "base_uri": "https://localhost:8080/"
        },
        "id": "zt31PMJnahzo",
        "outputId": "dc395e97-a972-4545-e32e-a6eaed2d2687"
      },
      "outputs": [
        {
          "output_type": "stream",
          "name": "stdout",
          "text": [
            "Collecting streamlit\n",
            "  Downloading streamlit-1.44.1-py3-none-any.whl.metadata (8.9 kB)\n",
            "Collecting pyngrok\n",
            "  Downloading pyngrok-7.2.3-py3-none-any.whl.metadata (8.7 kB)\n",
            "Requirement already satisfied: altair<6,>=4.0 in /usr/local/lib/python3.11/dist-packages (from streamlit) (5.5.0)\n",
            "Requirement already satisfied: blinker<2,>=1.0.0 in /usr/local/lib/python3.11/dist-packages (from streamlit) (1.9.0)\n",
            "Requirement already satisfied: cachetools<6,>=4.0 in /usr/local/lib/python3.11/dist-packages (from streamlit) (5.5.2)\n",
            "Requirement already satisfied: click<9,>=7.0 in /usr/local/lib/python3.11/dist-packages (from streamlit) (8.1.8)\n",
            "Requirement already satisfied: numpy<3,>=1.23 in /usr/local/lib/python3.11/dist-packages (from streamlit) (2.0.2)\n",
            "Requirement already satisfied: packaging<25,>=20 in /usr/local/lib/python3.11/dist-packages (from streamlit) (24.2)\n",
            "Requirement already satisfied: pandas<3,>=1.4.0 in /usr/local/lib/python3.11/dist-packages (from streamlit) (2.2.2)\n",
            "Requirement already satisfied: pillow<12,>=7.1.0 in /usr/local/lib/python3.11/dist-packages (from streamlit) (11.1.0)\n",
            "Requirement already satisfied: protobuf<6,>=3.20 in /usr/local/lib/python3.11/dist-packages (from streamlit) (5.29.4)\n",
            "Requirement already satisfied: pyarrow>=7.0 in /usr/local/lib/python3.11/dist-packages (from streamlit) (18.1.0)\n",
            "Requirement already satisfied: requests<3,>=2.27 in /usr/local/lib/python3.11/dist-packages (from streamlit) (2.32.3)\n",
            "Requirement already satisfied: tenacity<10,>=8.1.0 in /usr/local/lib/python3.11/dist-packages (from streamlit) (9.1.2)\n",
            "Requirement already satisfied: toml<2,>=0.10.1 in /usr/local/lib/python3.11/dist-packages (from streamlit) (0.10.2)\n",
            "Requirement already satisfied: typing-extensions<5,>=4.4.0 in /usr/local/lib/python3.11/dist-packages (from streamlit) (4.13.0)\n",
            "Collecting watchdog<7,>=2.1.5 (from streamlit)\n",
            "  Downloading watchdog-6.0.0-py3-none-manylinux2014_x86_64.whl.metadata (44 kB)\n",
            "\u001b[2K     \u001b[90m━━━━━━━━━━━━━━━━━━━━━━━━━━━━━━━━━━━━━━━━\u001b[0m \u001b[32m44.3/44.3 kB\u001b[0m \u001b[31m1.3 MB/s\u001b[0m eta \u001b[36m0:00:00\u001b[0m\n",
            "\u001b[?25hRequirement already satisfied: gitpython!=3.1.19,<4,>=3.0.7 in /usr/local/lib/python3.11/dist-packages (from streamlit) (3.1.44)\n",
            "Collecting pydeck<1,>=0.8.0b4 (from streamlit)\n",
            "  Downloading pydeck-0.9.1-py2.py3-none-any.whl.metadata (4.1 kB)\n",
            "Requirement already satisfied: tornado<7,>=6.0.3 in /usr/local/lib/python3.11/dist-packages (from streamlit) (6.4.2)\n",
            "Requirement already satisfied: PyYAML>=5.1 in /usr/local/lib/python3.11/dist-packages (from pyngrok) (6.0.2)\n",
            "Requirement already satisfied: jinja2 in /usr/local/lib/python3.11/dist-packages (from altair<6,>=4.0->streamlit) (3.1.6)\n",
            "Requirement already satisfied: jsonschema>=3.0 in /usr/local/lib/python3.11/dist-packages (from altair<6,>=4.0->streamlit) (4.23.0)\n",
            "Requirement already satisfied: narwhals>=1.14.2 in /usr/local/lib/python3.11/dist-packages (from altair<6,>=4.0->streamlit) (1.33.0)\n",
            "Requirement already satisfied: gitdb<5,>=4.0.1 in /usr/local/lib/python3.11/dist-packages (from gitpython!=3.1.19,<4,>=3.0.7->streamlit) (4.0.12)\n",
            "Requirement already satisfied: python-dateutil>=2.8.2 in /usr/local/lib/python3.11/dist-packages (from pandas<3,>=1.4.0->streamlit) (2.8.2)\n",
            "Requirement already satisfied: pytz>=2020.1 in /usr/local/lib/python3.11/dist-packages (from pandas<3,>=1.4.0->streamlit) (2025.2)\n",
            "Requirement already satisfied: tzdata>=2022.7 in /usr/local/lib/python3.11/dist-packages (from pandas<3,>=1.4.0->streamlit) (2025.2)\n",
            "Requirement already satisfied: charset-normalizer<4,>=2 in /usr/local/lib/python3.11/dist-packages (from requests<3,>=2.27->streamlit) (3.4.1)\n",
            "Requirement already satisfied: idna<4,>=2.5 in /usr/local/lib/python3.11/dist-packages (from requests<3,>=2.27->streamlit) (3.10)\n",
            "Requirement already satisfied: urllib3<3,>=1.21.1 in /usr/local/lib/python3.11/dist-packages (from requests<3,>=2.27->streamlit) (2.3.0)\n",
            "Requirement already satisfied: certifi>=2017.4.17 in /usr/local/lib/python3.11/dist-packages (from requests<3,>=2.27->streamlit) (2025.1.31)\n",
            "Requirement already satisfied: smmap<6,>=3.0.1 in /usr/local/lib/python3.11/dist-packages (from gitdb<5,>=4.0.1->gitpython!=3.1.19,<4,>=3.0.7->streamlit) (5.0.2)\n",
            "Requirement already satisfied: MarkupSafe>=2.0 in /usr/local/lib/python3.11/dist-packages (from jinja2->altair<6,>=4.0->streamlit) (3.0.2)\n",
            "Requirement already satisfied: attrs>=22.2.0 in /usr/local/lib/python3.11/dist-packages (from jsonschema>=3.0->altair<6,>=4.0->streamlit) (25.3.0)\n",
            "Requirement already satisfied: jsonschema-specifications>=2023.03.6 in /usr/local/lib/python3.11/dist-packages (from jsonschema>=3.0->altair<6,>=4.0->streamlit) (2024.10.1)\n",
            "Requirement already satisfied: referencing>=0.28.4 in /usr/local/lib/python3.11/dist-packages (from jsonschema>=3.0->altair<6,>=4.0->streamlit) (0.36.2)\n",
            "Requirement already satisfied: rpds-py>=0.7.1 in /usr/local/lib/python3.11/dist-packages (from jsonschema>=3.0->altair<6,>=4.0->streamlit) (0.24.0)\n",
            "Requirement already satisfied: six>=1.5 in /usr/local/lib/python3.11/dist-packages (from python-dateutil>=2.8.2->pandas<3,>=1.4.0->streamlit) (1.17.0)\n",
            "Downloading streamlit-1.44.1-py3-none-any.whl (9.8 MB)\n",
            "\u001b[2K   \u001b[90m━━━━━━━━━━━━━━━━━━━━━━━━━━━━━━━━━━━━━━━━\u001b[0m \u001b[32m9.8/9.8 MB\u001b[0m \u001b[31m25.2 MB/s\u001b[0m eta \u001b[36m0:00:00\u001b[0m\n",
            "\u001b[?25hDownloading pyngrok-7.2.3-py3-none-any.whl (23 kB)\n",
            "Downloading pydeck-0.9.1-py2.py3-none-any.whl (6.9 MB)\n",
            "\u001b[2K   \u001b[90m━━━━━━━━━━━━━━━━━━━━━━━━━━━━━━━━━━━━━━━━\u001b[0m \u001b[32m6.9/6.9 MB\u001b[0m \u001b[31m20.2 MB/s\u001b[0m eta \u001b[36m0:00:00\u001b[0m\n",
            "\u001b[?25hDownloading watchdog-6.0.0-py3-none-manylinux2014_x86_64.whl (79 kB)\n",
            "\u001b[2K   \u001b[90m━━━━━━━━━━━━━━━━━━━━━━━━━━━━━━━━━━━━━━━━\u001b[0m \u001b[32m79.1/79.1 kB\u001b[0m \u001b[31m4.2 MB/s\u001b[0m eta \u001b[36m0:00:00\u001b[0m\n",
            "\u001b[?25hInstalling collected packages: watchdog, pyngrok, pydeck, streamlit\n",
            "Successfully installed pydeck-0.9.1 pyngrok-7.2.3 streamlit-1.44.1 watchdog-6.0.0\n"
          ]
        }
      ],
      "source": [
        "!pip install streamlit pyngrok"
      ]
    },
    {
      "cell_type": "markdown",
      "source": [
        "**Step 2: Build the Streamlit App**\n",
        "\n",
        "The next step involves writing the code for the BMI Calculator. Here's a breakdown of what the code does:\n",
        "\n",
        "import streamlit as st\n",
        "import pandas as pd\n",
        "import matplotlib.pyplot as plt\n",
        "\n",
        "*st.set_page_config(page_title=\"BMI Calculator\", layout=\"centered\", page_icon=\"⚕\")*\n",
        "\n",
        "This part initializes the Streamlit app with a custom title, centered layout, and a health-related icon (⚕). It also sets up the page with a personalized greeting and some animations.\n",
        "\n",
        "name = st.text_input(\"Enter your name\")\n",
        "age = st.slider(\"Select your age\", 5, 100, 25)\n",
        "gender = st.radio(\"Select your gender\", [\"Male\", \"Female\", \"Other\"])\n",
        "weight = st.number_input(\"Enter your weight (kg)\", min_value=1.0)\n",
        "height = st.number_input(\"Enter your height (meters)\", min_value=0.1, format=\"%.2f\")\n",
        "height_unit = st.selectbox(\"Select your height unit\", [\"Meters\", \"Feet\"]) *italicized text* *italicized text* *italicized text*\n",
        "# New Section\n",
        "This part collects user inputs such as name, age, gender, weight, and height.\n",
        "\n",
        "if height_unit == \"Feet\":\n",
        "    height = height * 0.3048 *italicized text*\n",
        "\n",
        "# This is formatted as code\n",
        "\n",
        "If the user selects Feet for height, the code converts it to meters for accurate BMI calculation.\n",
        "\n",
        "if st.button(\"Calculate BMI\"):\n",
        "    if weight and height:\n",
        "        bmi = weight / (height ** 2)\n",
        "        st.success(f\"{name}, your BMI is: {bmi:.2f}\")\n",
        "\n",
        "When the user clicks the Calculate BMI button, the app calculates the BMI based on weight and height and displays the result.\n",
        "\n",
        "if 'bmi_data' not in st.session_state:\n",
        "    st.session_state.bmi_data = []\n",
        "\n",
        "This stores the user's BMI data in session state so that it can be accessed later.\n",
        "\n",
        "st.subheader(\"Your BMI on Category Bar\")\n",
        "fig, ax = plt.subplots(figsize=(8, 1))\n",
        "categories = ['Underweight', 'Normal', 'Overweight', 'Obese']\n",
        "colors = ['yellow', 'green', 'orange', 'red']\n",
        "limits = [0, 18.5, 24.9, 29.9, 40]\n",
        "\n",
        "for i in range(4):\n",
        "    ax.barh(0, limits[i+1] - limits[i], left=limits[i], color=colors[i])\n",
        "\n",
        "A bar chart is used to visualize the BMI categories and the user's BMI on it.\n",
        "\n",
        "st.markdown('<div class=\"footer\">Designed with care by Saira | Streamlit BMI Calculator</div>', unsafe_allow_html=True)\n",
        "\n",
        "Finally, a footer is added to the app."
      ],
      "metadata": {
        "id": "rIoP7oRSyQsE"
      }
    },
    {
      "cell_type": "code",
      "source": [
        "code = '''\n",
        "import streamlit as st\n",
        "import pandas as pd\n",
        "import matplotlib.pyplot as plt\n",
        "\n",
        "st.set_page_config(page_title=\"BMI Calculator\", layout=\"centered\", page_icon=\"⚕\")\n",
        "\n",
        "st.markdown(\"\"\"\n",
        "    <style>\n",
        "    .main {\n",
        "        background-color: #f5f5f5;\n",
        "    }\n",
        "    .title {\n",
        "        font-size: 36px;\n",
        "        font-weight: bold;\n",
        "        color: #4CAF50;\n",
        "        text-align: center;\n",
        "        margin-bottom: 20px;\n",
        "    }\n",
        "    .footer {\n",
        "        font-size: 12px;\n",
        "        text-align: center;\n",
        "        color: grey;\n",
        "        margin-top: 40px;\n",
        "    }\n",
        "    </style>\n",
        "\"\"\", unsafe_allow_html=True)\n",
        "\n",
        "st.markdown('<div class=\"title\">Your BMI Companion 💪📊</div>', unsafe_allow_html=True)\n",
        "\n",
        "st.markdown(\"\"\"\n",
        "    <h2 style=\"text-align: center; color: #3f9eca; font-size: 30px;\n",
        "    animation: slidein 3s ease-in-out;\">FitIndex: Your BMI Companion 💪📊 - Calculate your BMI instantly and get personalized tips!</h2>\n",
        "    <style>\n",
        "    @keyframes slidein {\n",
        "        0% { transform: translateX(-100%); }\n",
        "        50% { transform: translateX(0); }\n",
        "        100% { transform: translateX(100%); }\n",
        "    }\n",
        "    </style>\n",
        "\"\"\", unsafe_allow_html=True)\n",
        "\n",
        "name = st.text_input(\"Enter your name\")\n",
        "age = st.slider(\"Select your age\", 5, 100, 25)\n",
        "gender = st.radio(\"Select your gender\", [\"Male\", \"Female\", \"Other\"])\n",
        "weight = st.number_input(\"Enter your weight (kg)\", min_value=1.0)\n",
        "height = st.number_input(\"Enter your height (meters)\", min_value=0.1, format=\"%.2f\")\n",
        "height_unit = st.selectbox(\"Select your height unit\", [\"Meters\", \"Feet\"])\n",
        "\n",
        "if height_unit == \"Feet\":\n",
        "    height = height * 0.3048\n",
        "\n",
        "if st.button(\"Calculate BMI\"):\n",
        "    if weight and height:\n",
        "        bmi = weight / (height ** 2)\n",
        "        st.success(f\"{name}, your BMI is: {bmi:.2f}\")\n",
        "\n",
        "        if bmi < 18.5:\n",
        "            category = \"Underweight\"\n",
        "            st.warning(\"You're underweight.\")\n",
        "            st.info(\"Tip: Increase calorie-rich foods and consult a dietitian.\")\n",
        "        elif 18.5 <= bmi < 24.9:\n",
        "            category = \"Normal\"\n",
        "            st.success(\"You have a normal weight.\")\n",
        "            st.info(\"Tip: Maintain your diet and stay active.\")\n",
        "        elif 25 <= bmi < 29.9:\n",
        "            category = \"Overweight\"\n",
        "            st.info(\"You're overweight.\")\n",
        "            st.info(\"Tip: Add cardio, eat more fiber, and cut sugar.\")\n",
        "        else:\n",
        "            category = \"Obese\"\n",
        "            st.error(\"You're in the obese category.\")\n",
        "            st.info(\"Tip: Seek professional medical advice for a plan.\")\n",
        "\n",
        "        min_ideal = 18.5 * height**2\n",
        "        max_ideal = 24.9 * height**2\n",
        "        st.write(f\"Ideal weight for your height: {min_ideal:.1f} kg - {max_ideal:.1f} kg\")\n",
        "\n",
        "        if 'bmi_data' not in st.session_state:\n",
        "            st.session_state.bmi_data = []\n",
        "\n",
        "        if name:\n",
        "            st.session_state.bmi_data.append({\n",
        "                \"Name\": name,\n",
        "                \"Age\": age,\n",
        "                \"Gender\": gender,\n",
        "                \"Weight (kg)\": weight,\n",
        "                \"Height (m)\": height,\n",
        "                \"BMI\": round(bmi, 2),\n",
        "                \"Category\": category\n",
        "            })\n",
        "\n",
        "        if st.session_state.bmi_data:\n",
        "            st.subheader(\"BMI History\")\n",
        "            df = pd.DataFrame(st.session_state.bmi_data)\n",
        "            st.dataframe(df, use_container_width=True)\n",
        "\n",
        "        st.subheader(\"Your BMI on Category Bar\")\n",
        "\n",
        "        fig, ax = plt.subplots(figsize=(8, 1))\n",
        "        categories = ['Underweight', 'Normal', 'Overweight', 'Obese']\n",
        "        colors = ['yellow', 'green', 'orange', 'red']\n",
        "        limits = [0, 18.5, 24.9, 29.9, 40]\n",
        "\n",
        "        for i in range(4):\n",
        "            ax.barh(0, limits[i+1] - limits[i], left=limits[i], color=colors[i])\n",
        "\n",
        "        ax.axvline(bmi, color='blue', linewidth=2, label=f'Your BMI: {bmi:.2f}')\n",
        "        ax.set_xlim(10, 40)\n",
        "        ax.get_yaxis().set_visible(False)\n",
        "        ax.set_xlabel('BMI')\n",
        "        ax.legend()\n",
        "        st.pyplot(fig)\n",
        "\n",
        "st.markdown('<div class=\"footer\">Designed with care by Saira | Streamlit BMI Calculator</div>', unsafe_allow_html=True)\n",
        "'''\n",
        "\n",
        "with open('app.py', 'w') as f:\n",
        "    f.write(code)"
      ],
      "metadata": {
        "id": "ihmgc-sda8SK"
      },
      "execution_count": null,
      "outputs": []
    },
    {
      "cell_type": "markdown",
      "source": [
        "**Step 3: Configure Ngrok**\n",
        "\n",
        "Here, Ngrok is configured by adding an authentication token to set up a tunnel from a local server to the web.\n",
        "\n"
      ],
      "metadata": {
        "id": "aZjjICilzo-6"
      }
    },
    {
      "cell_type": "code",
      "source": [
        "!ngrok config add-authtoken 2vMoP1lfnKWVEZh44cchD07loZd_3UUNts1qKGLcB22eYsU6J"
      ],
      "metadata": {
        "colab": {
          "base_uri": "https://localhost:8080/"
        },
        "id": "_mWk-yP8bI_i",
        "outputId": "a9d30f03-1674-49c7-f542-8d8be2d6c06a"
      },
      "execution_count": null,
      "outputs": [
        {
          "output_type": "stream",
          "name": "stdout",
          "text": [
            "Authtoken saved to configuration file: /root/.config/ngrok/ngrok.yml\n"
          ]
        }
      ]
    },
    {
      "cell_type": "markdown",
      "source": [
        "**Step 4: Run the App in a Separate Thread**\n",
        "\n",
        "import threading\n",
        "import time\n",
        "import os\n",
        "\n",
        "def run_app():\n",
        "    os.system('streamlit run app.py')\n",
        "\n",
        "thread = threading.Thread(target=run_app)\n",
        "thread.start()\n",
        "\n",
        "# Wait for app to start\n",
        "time.sleep(5)\n",
        "\n",
        "This step involves running the Streamlit app in a separate thread, ensuring it runs in the background without blocking the rest of the code. The app is launched using the streamlit run command.\n"
      ],
      "metadata": {
        "id": "5pJYYgJJzyqr"
      }
    },
    {
      "cell_type": "code",
      "source": [
        "import threading\n",
        "import time\n",
        "import os\n",
        "\n",
        "def run_app():\n",
        "    os.system('streamlit run app.py')\n",
        "\n",
        "thread = threading.Thread(target=run_app)\n",
        "thread.start()\n",
        "\n",
        "time.sleep(5)"
      ],
      "metadata": {
        "id": "FtL-DjlbbrgK"
      },
      "execution_count": null,
      "outputs": []
    },
    {
      "cell_type": "markdown",
      "source": [
        "**Step 5: Expose the Streamlit App to the Web**\n",
        "\n",
        "Finally, Ngrok is used to create a public URL for the locally hosted Streamlit app. The app is now live, and the URL is printed, which you can share to access the app from anywhere."
      ],
      "metadata": {
        "id": "MVOklo8B0KzP"
      }
    },
    {
      "cell_type": "code",
      "source": [
        "from pyngrok import ngrok\n",
        "\n",
        "public_url = ngrok.connect(8501)\n",
        "print(\"Streamlit app is URL:\", public_url)"
      ],
      "metadata": {
        "colab": {
          "base_uri": "https://localhost:8080/"
        },
        "id": "aXyUyYjxb4J2",
        "outputId": "d75f721e-3b07-4cc4-9cf9-75f240ce730d"
      },
      "execution_count": null,
      "outputs": [
        {
          "output_type": "stream",
          "name": "stdout",
          "text": [
            "Aapka Streamlit app is URL pe live hai: NgrokTunnel: \"https://df9c-34-83-183-135.ngrok-free.app\" -> \"http://localhost:8501\"\n"
          ]
        }
      ]
    }
  ]
}