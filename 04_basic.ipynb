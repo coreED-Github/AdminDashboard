{
  "nbformat": 4,
  "nbformat_minor": 0,
  "metadata": {
    "colab": {
      "provenance": [],
      "authorship_tag": "ABX9TyMMDNYTApYtt/jnpBRLRNA5",
      "include_colab_link": true
    },
    "kernelspec": {
      "name": "python3",
      "display_name": "Python 3"
    },
    "language_info": {
      "name": "python"
    }
  },
  "cells": [
    {
      "cell_type": "markdown",
      "metadata": {
        "id": "view-in-github",
        "colab_type": "text"
      },
      "source": [
        "<a href=\"https://colab.research.google.com/github/coreED-Github/AdminDashboard/blob/main/04_basic.ipynb\" target=\"_parent\"><img src=\"https://colab.research.google.com/assets/colab-badge.svg\" alt=\"Open In Colab\"/></a>"
      ]
    },
    {
      "cell_type": "code",
      "execution_count": null,
      "metadata": {
        "colab": {
          "base_uri": "https://localhost:8080/"
        },
        "id": "bNEeQ9JHKeQC",
        "outputId": "a0a8ff5a-e429-4a52-908f-6e475a547333"
      },
      "outputs": [
        {
          "output_type": "stream",
          "name": "stdout",
          "text": [
            "Welcome to the Enhanced Number Guessing Game!\n",
            "I am thinking of a number between 1 and 99...\n",
            "\n",
            "Guesses Left: 10 | Current Score: 100\n",
            "Enter a guess: 8\n",
            "Your guess is too low!\n",
            "You're far off! Try again.\n",
            "\n",
            "Guesses Left: 9 | Current Score: 90\n",
            "Enter a guess: 90\n",
            "Your guess is too high!\n",
            "You're far off! Try again.\n",
            "\n",
            "Guesses Left: 8 | Current Score: 80\n",
            "Enter a guess: 78\n",
            "Your guess is too high!\n",
            "You're far off! Try again.\n",
            "\n",
            "Guesses Left: 7 | Current Score: 70\n"
          ]
        }
      ],
      "source": [
        "import random\n",
        "import time\n",
        "\n",
        "def main():\n",
        "\n",
        "    secret_number = random.randint(1, 99)\n",
        "\n",
        "    print(\"Welcome to the Enhanced Number Guessing Game!\")\n",
        "    print(\"I am thinking of a number between 1 and 99...\")\n",
        "\n",
        "    start_time = time.time()\n",
        "\n",
        "    score = 100\n",
        "    max_guesses = 10\n",
        "    guesses_left = max_guesses\n",
        "\n",
        "    while guesses_left > 0:\n",
        "        print(f\"\\nGuesses Left: {guesses_left} | Current Score: {score}\")\n",
        "\n",
        "        try:\n",
        "            guess = int(input(\"Enter a guess: \"))  # User se guess lena\n",
        "        except ValueError:\n",
        "            print(\"Invalid input! Please enter an integer.\")\n",
        "            continue\n",
        "\n",
        "        guesses_left -= 1\n",
        "\n",
        "        if guess == secret_number:\n",
        "            end_time = time.time()\n",
        "            time_taken = round(end_time - start_time, 2)\n",
        "            print(f\"Congrats! The number was: {secret_number}\")\n",
        "            print(f\"You guessed it in {max_guesses - guesses_left} tries!\")\n",
        "            print(f\"Your final score is: {score} | Time taken: {time_taken} seconds\")\n",
        "            break\n",
        "\n",
        "        if guess < secret_number:\n",
        "            print(\"Your guess is too low!\")\n",
        "            score -= 10\n",
        "        elif guess > secret_number:\n",
        "            print(\"Your guess is too high!\")\n",
        "            score -= 10\n",
        "\n",
        "        if abs(guess - secret_number) > 10:\n",
        "            print(\"You're far off! Try again.\")\n",
        "        elif abs(guess - secret_number) <= 10:\n",
        "            print(\"You're getting closer!\")\n",
        "\n",
        "        if guesses_left == 0:\n",
        "            print(f\"\\nGame Over! The number was: {secret_number}\")\n",
        "            print(f\"Your final score is: {score}\")\n",
        "            break\n",
        "\n",
        "if __name__ == '__main__':\n",
        "    main()"
      ]
    }
  ]
}