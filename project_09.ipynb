{
  "nbformat": 4,
  "nbformat_minor": 0,
  "metadata": {
    "colab": {
      "provenance": [],
      "history_visible": true,
      "authorship_tag": "ABX9TyMKCdjrwqjgWnvsrcPlrG9M",
      "include_colab_link": true
    },
    "kernelspec": {
      "name": "python3",
      "display_name": "Python 3"
    },
    "language_info": {
      "name": "python"
    }
  },
  "cells": [
    {
      "cell_type": "markdown",
      "metadata": {
        "id": "view-in-github",
        "colab_type": "text"
      },
      "source": [
        "<a href=\"https://colab.research.google.com/github/coreED-Github/AdminDashboard/blob/main/project_09.ipynb\" target=\"_parent\"><img src=\"https://colab.research.google.com/assets/colab-badge.svg\" alt=\"Open In Colab\"/></a>"
      ]
    },
    {
      "cell_type": "markdown",
      "source": [
        "**🚀 About This Project**\n",
        "\n",
        "In this project, I have created a Digital CV Web Application using Streamlit. The purpose of this project is to showcase my professional profile, including my skills, education, experience, and projects in an interactive and user-friendly web app format.\n",
        "\n",
        "\n",
        "**🎯 Project Purpose**\n",
        "\n",
        "The goal of this project is to present my digital resume in a modern, engaging way. By using Streamlit, I built a responsive web app that allows users to:\n",
        "\n",
        "View My Professional Details: This includes my skills, education, work experience, and contact information.\n",
        "\n",
        "Download My Resume: Visitors can easily download a PDF version of my CV.\n",
        "\n",
        "Explore My Projects: I have showcased links to several of my e-commerce projects, including websites I’ve built using Next.js, Sanity CMS, and other technologies.\n",
        "\n",
        "Get in Touch: Through contact information and social media links, visitors can reach out for collaborations, mentorship, or freelance opportunities.\n",
        "\n",
        "**🔧 Technologies Used**\n",
        "\n",
        "Streamlit: To create the interactive web application.\n",
        "\n",
        "Pillow: For handling image files (e.g., profile picture).\n",
        "\n",
        "pyngrok: To expose the local Streamlit app to the internet for public access.\n",
        "\n",
        "CSS (main.css): To style the app with a custom design.\n",
        "\n",
        "PDF File (CV.pdf): To provide a downloadable version of my resume"
      ],
      "metadata": {
        "id": "TxB99nRFfOLk"
      }
    },
    {
      "cell_type": "markdown",
      "source": [
        "**Firts Step:** in this step, I installed the necessary packages for building the web app. streamlit is used for creating interactive web apps, pillow is for image processing, and pyngrok helps in creating a tunnel to expose the local server to the internet.\n"
      ],
      "metadata": {
        "id": "FTqJfTpUdde-"
      }
    },
    {
      "cell_type": "code",
      "execution_count": null,
      "metadata": {
        "colab": {
          "base_uri": "https://localhost:8080/"
        },
        "id": "847Rx2t3VWX4",
        "outputId": "956e32ce-b0ee-49b8-ef4a-7574a7392bb9"
      },
      "outputs": [
        {
          "output_type": "stream",
          "name": "stdout",
          "text": [
            "Requirement already satisfied: streamlit in /usr/local/lib/python3.11/dist-packages (1.44.1)\n",
            "Requirement already satisfied: pillow in /usr/local/lib/python3.11/dist-packages (11.1.0)\n",
            "Collecting pyngrok\n",
            "  Downloading pyngrok-7.2.3-py3-none-any.whl.metadata (8.7 kB)\n",
            "Requirement already satisfied: altair<6,>=4.0 in /usr/local/lib/python3.11/dist-packages (from streamlit) (5.5.0)\n",
            "Requirement already satisfied: blinker<2,>=1.0.0 in /usr/local/lib/python3.11/dist-packages (from streamlit) (1.9.0)\n",
            "Requirement already satisfied: cachetools<6,>=4.0 in /usr/local/lib/python3.11/dist-packages (from streamlit) (5.5.2)\n",
            "Requirement already satisfied: click<9,>=7.0 in /usr/local/lib/python3.11/dist-packages (from streamlit) (8.1.8)\n",
            "Requirement already satisfied: numpy<3,>=1.23 in /usr/local/lib/python3.11/dist-packages (from streamlit) (2.0.2)\n",
            "Requirement already satisfied: packaging<25,>=20 in /usr/local/lib/python3.11/dist-packages (from streamlit) (24.2)\n",
            "Requirement already satisfied: pandas<3,>=1.4.0 in /usr/local/lib/python3.11/dist-packages (from streamlit) (2.2.2)\n",
            "Requirement already satisfied: protobuf<6,>=3.20 in /usr/local/lib/python3.11/dist-packages (from streamlit) (5.29.4)\n",
            "Requirement already satisfied: pyarrow>=7.0 in /usr/local/lib/python3.11/dist-packages (from streamlit) (18.1.0)\n",
            "Requirement already satisfied: requests<3,>=2.27 in /usr/local/lib/python3.11/dist-packages (from streamlit) (2.32.3)\n",
            "Requirement already satisfied: tenacity<10,>=8.1.0 in /usr/local/lib/python3.11/dist-packages (from streamlit) (9.1.2)\n",
            "Requirement already satisfied: toml<2,>=0.10.1 in /usr/local/lib/python3.11/dist-packages (from streamlit) (0.10.2)\n",
            "Requirement already satisfied: typing-extensions<5,>=4.4.0 in /usr/local/lib/python3.11/dist-packages (from streamlit) (4.13.1)\n",
            "Requirement already satisfied: watchdog<7,>=2.1.5 in /usr/local/lib/python3.11/dist-packages (from streamlit) (6.0.0)\n",
            "Requirement already satisfied: gitpython!=3.1.19,<4,>=3.0.7 in /usr/local/lib/python3.11/dist-packages (from streamlit) (3.1.44)\n",
            "Requirement already satisfied: pydeck<1,>=0.8.0b4 in /usr/local/lib/python3.11/dist-packages (from streamlit) (0.9.1)\n",
            "Requirement already satisfied: tornado<7,>=6.0.3 in /usr/local/lib/python3.11/dist-packages (from streamlit) (6.4.2)\n",
            "Requirement already satisfied: PyYAML>=5.1 in /usr/local/lib/python3.11/dist-packages (from pyngrok) (6.0.2)\n",
            "Requirement already satisfied: jinja2 in /usr/local/lib/python3.11/dist-packages (from altair<6,>=4.0->streamlit) (3.1.6)\n",
            "Requirement already satisfied: jsonschema>=3.0 in /usr/local/lib/python3.11/dist-packages (from altair<6,>=4.0->streamlit) (4.23.0)\n",
            "Requirement already satisfied: narwhals>=1.14.2 in /usr/local/lib/python3.11/dist-packages (from altair<6,>=4.0->streamlit) (1.33.0)\n",
            "Requirement already satisfied: gitdb<5,>=4.0.1 in /usr/local/lib/python3.11/dist-packages (from gitpython!=3.1.19,<4,>=3.0.7->streamlit) (4.0.12)\n",
            "Requirement already satisfied: python-dateutil>=2.8.2 in /usr/local/lib/python3.11/dist-packages (from pandas<3,>=1.4.0->streamlit) (2.8.2)\n",
            "Requirement already satisfied: pytz>=2020.1 in /usr/local/lib/python3.11/dist-packages (from pandas<3,>=1.4.0->streamlit) (2025.2)\n",
            "Requirement already satisfied: tzdata>=2022.7 in /usr/local/lib/python3.11/dist-packages (from pandas<3,>=1.4.0->streamlit) (2025.2)\n",
            "Requirement already satisfied: charset-normalizer<4,>=2 in /usr/local/lib/python3.11/dist-packages (from requests<3,>=2.27->streamlit) (3.4.1)\n",
            "Requirement already satisfied: idna<4,>=2.5 in /usr/local/lib/python3.11/dist-packages (from requests<3,>=2.27->streamlit) (3.10)\n",
            "Requirement already satisfied: urllib3<3,>=1.21.1 in /usr/local/lib/python3.11/dist-packages (from requests<3,>=2.27->streamlit) (2.3.0)\n",
            "Requirement already satisfied: certifi>=2017.4.17 in /usr/local/lib/python3.11/dist-packages (from requests<3,>=2.27->streamlit) (2025.1.31)\n",
            "Requirement already satisfied: smmap<6,>=3.0.1 in /usr/local/lib/python3.11/dist-packages (from gitdb<5,>=4.0.1->gitpython!=3.1.19,<4,>=3.0.7->streamlit) (5.0.2)\n",
            "Requirement already satisfied: MarkupSafe>=2.0 in /usr/local/lib/python3.11/dist-packages (from jinja2->altair<6,>=4.0->streamlit) (3.0.2)\n",
            "Requirement already satisfied: attrs>=22.2.0 in /usr/local/lib/python3.11/dist-packages (from jsonschema>=3.0->altair<6,>=4.0->streamlit) (25.3.0)\n",
            "Requirement already satisfied: jsonschema-specifications>=2023.03.6 in /usr/local/lib/python3.11/dist-packages (from jsonschema>=3.0->altair<6,>=4.0->streamlit) (2024.10.1)\n",
            "Requirement already satisfied: referencing>=0.28.4 in /usr/local/lib/python3.11/dist-packages (from jsonschema>=3.0->altair<6,>=4.0->streamlit) (0.36.2)\n",
            "Requirement already satisfied: rpds-py>=0.7.1 in /usr/local/lib/python3.11/dist-packages (from jsonschema>=3.0->altair<6,>=4.0->streamlit) (0.24.0)\n",
            "Requirement already satisfied: six>=1.5 in /usr/local/lib/python3.11/dist-packages (from python-dateutil>=2.8.2->pandas<3,>=1.4.0->streamlit) (1.17.0)\n",
            "Downloading pyngrok-7.2.3-py3-none-any.whl (23 kB)\n",
            "Installing collected packages: pyngrok\n",
            "Successfully installed pyngrok-7.2.3\n"
          ]
        }
      ],
      "source": [
        "!pip install streamlit pillow pyngrok"
      ]
    },
    {
      "cell_type": "markdown",
      "source": [
        "**Second Step:** Here, I uploaded the required files (e.g., CSS, PDF, and image files) to Colab for use in the application. The files.upload() function allows me to select and upload files directly from my local machine to the Colab environment.\n"
      ],
      "metadata": {
        "id": "Asp9ffoNdyms"
      }
    },
    {
      "cell_type": "code",
      "source": [
        "from google.colab import files\n",
        "\n",
        "uploaded = files.upload()"
      ],
      "metadata": {
        "colab": {
          "base_uri": "https://localhost:8080/",
          "height": 142
        },
        "id": "6QwUovfdVuy2",
        "outputId": "f730c178-16fb-4d3c-d2fc-5948980a1a35"
      },
      "execution_count": null,
      "outputs": [
        {
          "output_type": "display_data",
          "data": {
            "text/plain": [
              "<IPython.core.display.HTML object>"
            ],
            "text/html": [
              "\n",
              "     <input type=\"file\" id=\"files-c931a6e8-8f66-4cfe-af45-f1a32d92a081\" name=\"files[]\" multiple disabled\n",
              "        style=\"border:none\" />\n",
              "     <output id=\"result-c931a6e8-8f66-4cfe-af45-f1a32d92a081\">\n",
              "      Upload widget is only available when the cell has been executed in the\n",
              "      current browser session. Please rerun this cell to enable.\n",
              "      </output>\n",
              "      <script>// Copyright 2017 Google LLC\n",
              "//\n",
              "// Licensed under the Apache License, Version 2.0 (the \"License\");\n",
              "// you may not use this file except in compliance with the License.\n",
              "// You may obtain a copy of the License at\n",
              "//\n",
              "//      http://www.apache.org/licenses/LICENSE-2.0\n",
              "//\n",
              "// Unless required by applicable law or agreed to in writing, software\n",
              "// distributed under the License is distributed on an \"AS IS\" BASIS,\n",
              "// WITHOUT WARRANTIES OR CONDITIONS OF ANY KIND, either express or implied.\n",
              "// See the License for the specific language governing permissions and\n",
              "// limitations under the License.\n",
              "\n",
              "/**\n",
              " * @fileoverview Helpers for google.colab Python module.\n",
              " */\n",
              "(function(scope) {\n",
              "function span(text, styleAttributes = {}) {\n",
              "  const element = document.createElement('span');\n",
              "  element.textContent = text;\n",
              "  for (const key of Object.keys(styleAttributes)) {\n",
              "    element.style[key] = styleAttributes[key];\n",
              "  }\n",
              "  return element;\n",
              "}\n",
              "\n",
              "// Max number of bytes which will be uploaded at a time.\n",
              "const MAX_PAYLOAD_SIZE = 100 * 1024;\n",
              "\n",
              "function _uploadFiles(inputId, outputId) {\n",
              "  const steps = uploadFilesStep(inputId, outputId);\n",
              "  const outputElement = document.getElementById(outputId);\n",
              "  // Cache steps on the outputElement to make it available for the next call\n",
              "  // to uploadFilesContinue from Python.\n",
              "  outputElement.steps = steps;\n",
              "\n",
              "  return _uploadFilesContinue(outputId);\n",
              "}\n",
              "\n",
              "// This is roughly an async generator (not supported in the browser yet),\n",
              "// where there are multiple asynchronous steps and the Python side is going\n",
              "// to poll for completion of each step.\n",
              "// This uses a Promise to block the python side on completion of each step,\n",
              "// then passes the result of the previous step as the input to the next step.\n",
              "function _uploadFilesContinue(outputId) {\n",
              "  const outputElement = document.getElementById(outputId);\n",
              "  const steps = outputElement.steps;\n",
              "\n",
              "  const next = steps.next(outputElement.lastPromiseValue);\n",
              "  return Promise.resolve(next.value.promise).then((value) => {\n",
              "    // Cache the last promise value to make it available to the next\n",
              "    // step of the generator.\n",
              "    outputElement.lastPromiseValue = value;\n",
              "    return next.value.response;\n",
              "  });\n",
              "}\n",
              "\n",
              "/**\n",
              " * Generator function which is called between each async step of the upload\n",
              " * process.\n",
              " * @param {string} inputId Element ID of the input file picker element.\n",
              " * @param {string} outputId Element ID of the output display.\n",
              " * @return {!Iterable<!Object>} Iterable of next steps.\n",
              " */\n",
              "function* uploadFilesStep(inputId, outputId) {\n",
              "  const inputElement = document.getElementById(inputId);\n",
              "  inputElement.disabled = false;\n",
              "\n",
              "  const outputElement = document.getElementById(outputId);\n",
              "  outputElement.innerHTML = '';\n",
              "\n",
              "  const pickedPromise = new Promise((resolve) => {\n",
              "    inputElement.addEventListener('change', (e) => {\n",
              "      resolve(e.target.files);\n",
              "    });\n",
              "  });\n",
              "\n",
              "  const cancel = document.createElement('button');\n",
              "  inputElement.parentElement.appendChild(cancel);\n",
              "  cancel.textContent = 'Cancel upload';\n",
              "  const cancelPromise = new Promise((resolve) => {\n",
              "    cancel.onclick = () => {\n",
              "      resolve(null);\n",
              "    };\n",
              "  });\n",
              "\n",
              "  // Wait for the user to pick the files.\n",
              "  const files = yield {\n",
              "    promise: Promise.race([pickedPromise, cancelPromise]),\n",
              "    response: {\n",
              "      action: 'starting',\n",
              "    }\n",
              "  };\n",
              "\n",
              "  cancel.remove();\n",
              "\n",
              "  // Disable the input element since further picks are not allowed.\n",
              "  inputElement.disabled = true;\n",
              "\n",
              "  if (!files) {\n",
              "    return {\n",
              "      response: {\n",
              "        action: 'complete',\n",
              "      }\n",
              "    };\n",
              "  }\n",
              "\n",
              "  for (const file of files) {\n",
              "    const li = document.createElement('li');\n",
              "    li.append(span(file.name, {fontWeight: 'bold'}));\n",
              "    li.append(span(\n",
              "        `(${file.type || 'n/a'}) - ${file.size} bytes, ` +\n",
              "        `last modified: ${\n",
              "            file.lastModifiedDate ? file.lastModifiedDate.toLocaleDateString() :\n",
              "                                    'n/a'} - `));\n",
              "    const percent = span('0% done');\n",
              "    li.appendChild(percent);\n",
              "\n",
              "    outputElement.appendChild(li);\n",
              "\n",
              "    const fileDataPromise = new Promise((resolve) => {\n",
              "      const reader = new FileReader();\n",
              "      reader.onload = (e) => {\n",
              "        resolve(e.target.result);\n",
              "      };\n",
              "      reader.readAsArrayBuffer(file);\n",
              "    });\n",
              "    // Wait for the data to be ready.\n",
              "    let fileData = yield {\n",
              "      promise: fileDataPromise,\n",
              "      response: {\n",
              "        action: 'continue',\n",
              "      }\n",
              "    };\n",
              "\n",
              "    // Use a chunked sending to avoid message size limits. See b/62115660.\n",
              "    let position = 0;\n",
              "    do {\n",
              "      const length = Math.min(fileData.byteLength - position, MAX_PAYLOAD_SIZE);\n",
              "      const chunk = new Uint8Array(fileData, position, length);\n",
              "      position += length;\n",
              "\n",
              "      const base64 = btoa(String.fromCharCode.apply(null, chunk));\n",
              "      yield {\n",
              "        response: {\n",
              "          action: 'append',\n",
              "          file: file.name,\n",
              "          data: base64,\n",
              "        },\n",
              "      };\n",
              "\n",
              "      let percentDone = fileData.byteLength === 0 ?\n",
              "          100 :\n",
              "          Math.round((position / fileData.byteLength) * 100);\n",
              "      percent.textContent = `${percentDone}% done`;\n",
              "\n",
              "    } while (position < fileData.byteLength);\n",
              "  }\n",
              "\n",
              "  // All done.\n",
              "  yield {\n",
              "    response: {\n",
              "      action: 'complete',\n",
              "    }\n",
              "  };\n",
              "}\n",
              "\n",
              "scope.google = scope.google || {};\n",
              "scope.google.colab = scope.google.colab || {};\n",
              "scope.google.colab._files = {\n",
              "  _uploadFiles,\n",
              "  _uploadFilesContinue,\n",
              "};\n",
              "})(self);\n",
              "</script> "
            ]
          },
          "metadata": {}
        },
        {
          "output_type": "stream",
          "name": "stdout",
          "text": [
            "Saving CV.docx to CV.docx\n",
            "Saving CV.pdf to CV.pdf\n",
            "Saving saira.jpg to saira.jpg\n"
          ]
        }
      ]
    },
    {
      "cell_type": "markdown",
      "source": [
        "**Third Step:** In this step, I defined the filenames of the CSS file, resume PDF, and profile picture image. These files will be used in the Streamlit app to customize its look and content.\n"
      ],
      "metadata": {
        "id": "q4bqyYe2eFS1"
      }
    },
    {
      "cell_type": "code",
      "source": [
        "css_file = \"main.css\"\n",
        "resume_file = \"CV.pdf\"\n",
        "profile_pic = \"saira.jpg\""
      ],
      "metadata": {
        "id": "BQ2GwPESWQD9"
      },
      "execution_count": null,
      "outputs": []
    },
    {
      "cell_type": "markdown",
      "source": [
        "**Fourth Step**: I created a Python file app.py using the %%writefile magic command, which allows me to write code directly into a file. The Streamlit app code imports necessary libraries, defines variables for the profile and resume, and sets up a layout with navigation, sections, and download buttons."
      ],
      "metadata": {
        "id": "vRGPjntgeNZK"
      }
    },
    {
      "cell_type": "code",
      "source": [
        "%%writefile app.py\n",
        "from pathlib import Path\n",
        "import streamlit as st\n",
        "from PIL import Image\n",
        "\n",
        "current_dir = Path(_file).parent if \"file\" in locals() else Path.cwd()\n",
        "css_file = current_dir / \"styles\" / \"main.css\"\n",
        "resume_file = current_dir / \"assets\" / \"CV.pdf\"\n",
        "profile_pic = current_dir / \"assets\" / \"saira.jpg\"\n",
        "\n",
        "PAGE_TITLE = \"Digital CV | Saira\"\n",
        "PAGE_ICON = \":wave:\"\n",
        "NAME = \"Saira\"\n",
        "DESCRIPTION = \"School Principal | Math Teacher | E-Commerce Developer | Programmer | Freelancer\"\n",
        "EMAIL = \"sairanasir853@email.com\"\n",
        "SOCIAL_MEDIA = {\n",
        "    \"LinkedIn\": \"https://www.linkedin.com/in/saira-nasir-935bb1230\",\n",
        "    \"GitHub\": \"https://github.com/coreED-Github\",\n",
        "    \"Facebook\": \"https://www.facebook.com/share/1ALRVFEn2n/\"\n",
        "}\n",
        "PROJECTS = {\n",
        "    \"🏆E-Commerce Marketplace with Sanity CMS & Next.js\": \"https://marketplace-home-store-ecommerce-website.vercel.app/\",\n",
        "    \"🏆E-Commerce website with Sanity CMS & Next.js\": \"https://e-commerce-website-practise.vercel.app/\",\n",
        "    \"🏆E-Commerce website with Next.js & tailwind CSS\": \"https://chocolate-cake-shop.vercel.app/\",\n",
        "    \"🏆My Portfolio with Tailwind Css & Next.js\": \"https://my-portolio-project.vercel.app/\",\n",
        "    \"🏆API Integration country info Website with Nextjs and API's\": \"classassignment-15-country.vercel.app\",\n",
        "    \"🏆 Resume builder using HTML and CSS\":\"https://resume-builder-005.vercel.app/\",\n",
        "}\n",
        "\n",
        "st.set_page_config(page_title=PAGE_TITLE, page_icon=PAGE_ICON)\n",
        "\n",
        "st.sidebar.title(\"Saira Nasir Portfolio\")\n",
        "nav_selection = st.sidebar.radio(\"Go to\", [\"Home\", \"Education\", \"Skills\", \"Experience\", \"Projects\", \"Contact\"])\n",
        "\n",
        "with open(css_file) as f:\n",
        "    st.markdown(\"<style>{}</style>\".format(f.read()), unsafe_allow_html=True)\n",
        "with open(resume_file, \"rb\") as pdf_file:\n",
        "    PDFbyte = pdf_file.read()\n",
        "profile_pic = Image.open(profile_pic)\n",
        "\n",
        "if nav_selection == \"Home\":\n",
        "    col1, col2 = st.columns(2, gap=\"small\")\n",
        "    with col1:\n",
        "        st.image(profile_pic, width=230)\n",
        "    with col2:\n",
        "        st.title(NAME)\n",
        "        st.write(DESCRIPTION)\n",
        "        st.download_button(\n",
        "            label=\"📄 Download Resume\",\n",
        "            data=PDFbyte,\n",
        "            file_name=resume_file.name,\n",
        "            mime=\"application/octet-stream\",\n",
        "        )\n",
        "        st.write(\"📫\", EMAIL)\n",
        "\n",
        "    st.write('\\n')\n",
        "    cols = st.columns(len(SOCIAL_MEDIA))\n",
        "    for index, (platform, link) in enumerate(SOCIAL_MEDIA.items()):\n",
        "        cols[index].write(f\"[{platform}]({link})\")\n",
        "\n",
        "if nav_selection == \"Education\":\n",
        "    st.subheader(\"Education\")\n",
        "    st.write(\"---\")\n",
        "    st.write(\n",
        "        \"\"\"\n",
        "- 🎓 Bechelor Of Commerce - Karachi University\n",
        "- 📍 Location: Karachi, Pakistan\n",
        "- 🗓 Duration: 2021 - 2024\n",
        "\"\"\"\n",
        "    )\n",
        "\n",
        "if nav_selection == \"Skills\":\n",
        "    st.subheader(\"Technical Skills\")\n",
        "    st.write(\"---\")\n",
        "    st.write(\n",
        "        \"\"\"\n",
        "- 👩‍💻 Programming: Python, SQL, JavaScript, TypeScript, Next.js, React, HTML, CSS\n",
        "- 📊 Data Science: Pandas, NumPy, Scikit-learn, Matplotlib, Seaborn\n",
        "- ☁ CMS & APIs: Sanity CMS, EasyPost, Shippo, AliExpress APIs\n",
        "- 🎨 Frontend: TailwindCSS, Responsive Design\n",
        "- 🧪 Testing: Cypress, UAT, Lighthouse Audits\n",
        "\"\"\"\n",
        "    )\n",
        "\n",
        "if nav_selection == \"Experience\":\n",
        "    st.subheader(\"Experience\")\n",
        "    st.write(\"---\")\n",
        "    st.write(\"🚧 School Principal | Math Teacher\")\n",
        "    st.write(\"2018 - Present\")\n",
        "    st.write(\"- Teaching Data Science & mentoring students in real-world projects.\")\n",
        "\n",
        "    st.write('\\n')\n",
        "    st.write(\"🚧 Freelance Developer | E-Commerce Projects\")\n",
        "    st.write(\"2024 - Present\")\n",
        "    st.write(\n",
        "        \"\"\"\n",
        "- Built and deployed marketplace platforms using Next.js & Sanity CMS.\n",
        "- Integrated dynamic shipment tracking APIs and performed UAT for clients.\n",
        "\"\"\"\n",
        "    )\n",
        "\n",
        "if nav_selection == \"Projects\":\n",
        "    st.subheader(\"Projects & Accomplishments\")\n",
        "    st.write(\"---\")\n",
        "    for project, link in PROJECTS.items():\n",
        "        st.write(f\"[{project}]({link})\")\n",
        "\n",
        "if nav_selection == \"Contact\":\n",
        "    st.subheader(\"Get in Touch\")\n",
        "    st.write(\"---\")\n",
        "    st.write(f\"📫 Email: {EMAIL}\")\n",
        "    st.write(\"Phone: 03492908035\")\n",
        "    st.write('\\n')\n",
        "    cols = st.columns(len(SOCIAL_MEDIA))\n",
        "    for index, (platform, link) in enumerate(SOCIAL_MEDIA.items()):\n",
        "        cols[index].write(f\"[{platform}]({link})\")\n",
        "    st.write(\"Feel free to reach out for collaborations, mentorship, or freelance work!\")\n",
        "\n",
        "st.markdown(\"\"\"\n",
        "<hr style='border:1px solid #ccc'/>\n",
        "<div style='text-align:center; color:gray; font-size: small;'>\n",
        "    Built with ❤ by Saira | © 2025\n",
        "</div>\n",
        "\"\"\", unsafe_allow_html=True)\n",
        "print(\"Resume size:\", resume_file.stat().st_size)"
      ],
      "metadata": {
        "colab": {
          "base_uri": "https://localhost:8080/"
        },
        "id": "owgtDDa4Xqhe",
        "outputId": "acd15570-0685-4317-852d-c370697eeb6f"
      },
      "execution_count": null,
      "outputs": [
        {
          "output_type": "stream",
          "name": "stdout",
          "text": [
            "Writing app.py\n"
          ]
        }
      ]
    },
    {
      "cell_type": "markdown",
      "source": [
        "**Fifth step:** This step authenticates my ngrok account using the provided token, enabling me to use ngrok to expose the local Streamlit app to the internet. Ngrok is a tool that helps in creating secure tunnels to localhost services.\n"
      ],
      "metadata": {
        "id": "Y8sVaI_Yecfh"
      }
    },
    {
      "cell_type": "code",
      "source": [
        "!ngrok authtoken 2vMoP1lfnKWVEZh44cchD07loZd_3UUNts1qKGLcB22eYsU6J"
      ],
      "metadata": {
        "colab": {
          "base_uri": "https://localhost:8080/"
        },
        "id": "CFKvuXPaZdWM",
        "outputId": "810f5dc7-a2ca-4f6a-b4a2-719bffb8fb6c"
      },
      "execution_count": null,
      "outputs": [
        {
          "output_type": "stream",
          "name": "stdout",
          "text": [
            "Authtoken saved to configuration file: /root/.config/ngrok/ngrok.yml\n"
          ]
        }
      ]
    },
    {
      "cell_type": "markdown",
      "source": [
        "**Sixth Step:** In this final step, I created a secure tunnel using ngrok and obtained a public URL to access the locally hosted Streamlit app. Then, I started the Streamlit app by running the streamlit run app.py command in the background, making the app accessible via the ngrok public URL.\n",
        "\n"
      ],
      "metadata": {
        "id": "j-WL2psYejkK"
      }
    },
    {
      "cell_type": "code",
      "source": [
        "from pyngrok import ngrok\n",
        "import os\n",
        "\n",
        "# Start ngrok tunnel\n",
        "public_url = ngrok.connect(8501)\n",
        "print(\"streamlit is live at:\", public_url)\n",
        "\n",
        "# Start streamlit app\n",
        "os.system('streamlit run app.py &')"
      ],
      "metadata": {
        "colab": {
          "base_uri": "https://localhost:8080/"
        },
        "id": "XQitlpGwZ78F",
        "outputId": "72e7f55a-4962-4876-d683-a80cc8fa8eeb"
      },
      "execution_count": null,
      "outputs": [
        {
          "output_type": "stream",
          "name": "stdout",
          "text": [
            "streamlit is live at: NgrokTunnel: \"https://f792-34-170-7-187.ngrok-free.app\" -> \"http://localhost:8501\"\n"
          ]
        },
        {
          "output_type": "execute_result",
          "data": {
            "text/plain": [
              "0"
            ]
          },
          "metadata": {},
          "execution_count": 17
        }
      ]
    }
  ]
}